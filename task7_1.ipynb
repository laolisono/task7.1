{
  "nbformat": 4,
  "nbformat_minor": 0,
  "metadata": {
    "colab": {
      "provenance": [],
      "authorship_tag": "ABX9TyNeedTNb9gnfmcIehdYewhS",
      "include_colab_link": true
    },
    "kernelspec": {
      "name": "python3",
      "display_name": "Python 3"
    },
    "language_info": {
      "name": "python"
    }
  },
  "cells": [
    {
      "cell_type": "markdown",
      "metadata": {
        "id": "view-in-github",
        "colab_type": "text"
      },
      "source": [
        "<a href=\"https://colab.research.google.com/github/laolisono/task7.1/blob/main/task7_1.ipynb\" target=\"_parent\"><img src=\"https://colab.research.google.com/assets/colab-badge.svg\" alt=\"Open In Colab\"/></a>"
      ]
    },
    {
      "cell_type": "code",
      "source": [
        "import time\n",
        "\n",
        "def date():\n",
        "    datentime_now = time.localtime()\n",
        "    new_datentime = time.strftime(\"%d.%m.%Y, %H:%M\", datentime_now)\n",
        "    return new_datentime"
      ],
      "metadata": {
        "id": "-3E9RLCYUzaF"
      },
      "execution_count": 13,
      "outputs": []
    }
  ]
}